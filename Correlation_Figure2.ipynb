{
 "cells": [
  {
   "cell_type": "code",
   "execution_count": 1,
   "metadata": {
    "collapsed": true
   },
   "outputs": [],
   "source": [
    "import pandas as pd\n",
    "import numpy as np\n",
    "import matplotlib.pyplot as plt\n",
    "%matplotlib inline\n",
    "import seaborn as sns\n"
   ]
  },
  {
   "cell_type": "code",
   "execution_count": 2,
   "metadata": {
    "collapsed": true
   },
   "outputs": [],
   "source": [
    "data_temp = r'C:/Users/hamed/Desktop/SemiFinalists/Project/Year_Temp_csv.csv'\n",
    "data = pd.read_csv(data_temp)\n",
    "data_gases = r'C:/Users/hamed/Desktop/SemiFinalists/Project/methane_nitrogen_carbondioxide.csv'\n",
    "gases = pd.read_csv(data_gases)\n",
    "data_sunspots = r'C:/Users/hamed/Desktop/SemiFinalists/Project/sunspotnumber_csv.csv'\n",
    "sunspots = pd.read_csv(data_sunspots)"
   ]
  },
  {
   "cell_type": "code",
   "execution_count": 3,
   "metadata": {},
   "outputs": [],
   "source": [
    "data = pd.merge(data, gases, on=['year'])\n",
    "data_new = pd.merge(data, sunspots, how='left',  on=['year'])"
   ]
  },
  {
   "cell_type": "code",
   "execution_count": 4,
   "metadata": {},
   "outputs": [
    {
     "data": {
      "text/html": [
       "<div>\n",
       "<style>\n",
       "    .dataframe thead tr:only-child th {\n",
       "        text-align: right;\n",
       "    }\n",
       "\n",
       "    .dataframe thead th {\n",
       "        text-align: left;\n",
       "    }\n",
       "\n",
       "    .dataframe tbody tr th {\n",
       "        vertical-align: top;\n",
       "    }\n",
       "</style>\n",
       "<table border=\"1\" class=\"dataframe\">\n",
       "  <thead>\n",
       "    <tr style=\"text-align: right;\">\n",
       "      <th></th>\n",
       "      <th>year</th>\n",
       "      <th>average global temp</th>\n",
       "      <th>carbondioxide</th>\n",
       "      <th>methane</th>\n",
       "      <th>nitrousoxide</th>\n",
       "      <th>suns_spot_number</th>\n",
       "    </tr>\n",
       "  </thead>\n",
       "  <tbody>\n",
       "    <tr>\n",
       "      <th>year</th>\n",
       "      <td>1.000000</td>\n",
       "      <td>0.871625</td>\n",
       "      <td>0.919225</td>\n",
       "      <td>0.949567</td>\n",
       "      <td>0.998579</td>\n",
       "      <td>0.480815</td>\n",
       "    </tr>\n",
       "    <tr>\n",
       "      <th>average global temp</th>\n",
       "      <td>0.871625</td>\n",
       "      <td>1.000000</td>\n",
       "      <td>0.849276</td>\n",
       "      <td>0.875685</td>\n",
       "      <td>0.881259</td>\n",
       "      <td>0.219099</td>\n",
       "    </tr>\n",
       "    <tr>\n",
       "      <th>carbondioxide</th>\n",
       "      <td>0.919225</td>\n",
       "      <td>0.849276</td>\n",
       "      <td>1.000000</td>\n",
       "      <td>0.927349</td>\n",
       "      <td>0.997613</td>\n",
       "      <td>0.335146</td>\n",
       "    </tr>\n",
       "    <tr>\n",
       "      <th>methane</th>\n",
       "      <td>0.949567</td>\n",
       "      <td>0.875685</td>\n",
       "      <td>0.927349</td>\n",
       "      <td>1.000000</td>\n",
       "      <td>0.944631</td>\n",
       "      <td>-0.535840</td>\n",
       "    </tr>\n",
       "    <tr>\n",
       "      <th>nitrousoxide</th>\n",
       "      <td>0.998579</td>\n",
       "      <td>0.881259</td>\n",
       "      <td>0.997613</td>\n",
       "      <td>0.944631</td>\n",
       "      <td>1.000000</td>\n",
       "      <td>-0.513568</td>\n",
       "    </tr>\n",
       "    <tr>\n",
       "      <th>suns_spot_number</th>\n",
       "      <td>0.480815</td>\n",
       "      <td>0.219099</td>\n",
       "      <td>0.335146</td>\n",
       "      <td>-0.535840</td>\n",
       "      <td>-0.513568</td>\n",
       "      <td>1.000000</td>\n",
       "    </tr>\n",
       "  </tbody>\n",
       "</table>\n",
       "</div>"
      ],
      "text/plain": [
       "                         year  average global temp  carbondioxide   methane  \\\n",
       "year                 1.000000             0.871625       0.919225  0.949567   \n",
       "average global temp  0.871625             1.000000       0.849276  0.875685   \n",
       "carbondioxide        0.919225             0.849276       1.000000  0.927349   \n",
       "methane              0.949567             0.875685       0.927349  1.000000   \n",
       "nitrousoxide         0.998579             0.881259       0.997613  0.944631   \n",
       "suns_spot_number     0.480815             0.219099       0.335146 -0.535840   \n",
       "\n",
       "                     nitrousoxide  suns_spot_number  \n",
       "year                     0.998579          0.480815  \n",
       "average global temp      0.881259          0.219099  \n",
       "carbondioxide            0.997613          0.335146  \n",
       "methane                  0.944631         -0.535840  \n",
       "nitrousoxide             1.000000         -0.513568  \n",
       "suns_spot_number        -0.513568          1.000000  "
      ]
     },
     "execution_count": 4,
     "metadata": {},
     "output_type": "execute_result"
    }
   ],
   "source": [
    "data_new.corr()"
   ]
  },
  {
   "cell_type": "code",
   "execution_count": 5,
   "metadata": {},
   "outputs": [
    {
     "data": {
      "text/plain": [
       "<matplotlib.axes._subplots.AxesSubplot at 0x1d672833ac8>"
      ]
     },
     "execution_count": 5,
     "metadata": {},
     "output_type": "execute_result"
    },
    {
     "data": {
      "image/png": "[encoded data removed]",
      "text/plain": [
       "<matplotlib.figure.Figure at 0x1d672833f28>"
      ]
     },
     "metadata": {},
     "output_type": "display_data"
    }
   ],
   "source": [
    "sns.heatmap(data_new.corr())"
   ]
  }
 ],
 "metadata": {
  "kernelspec": {
   "display_name": "Python 3",
   "language": "python",
   "name": "python3"
  },
  "language_info": {
   "codemirror_mode": {
    "name": "ipython",
    "version": 3
   },
   "file_extension": ".py",
   "mimetype": "text/x-python",
   "name": "python",
   "nbconvert_exporter": "python",
   "pygments_lexer": "ipython3",
   "version": "3.6.1"
  }
 },
 "nbformat": 4,
 "nbformat_minor": 2
}
